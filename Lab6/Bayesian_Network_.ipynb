{
  "nbformat": 4,
  "nbformat_minor": 0,
  "metadata": {
    "colab": {
      "name": "Bayesian Network .ipynb",
      "provenance": []
    },
    "kernelspec": {
      "name": "python3",
      "display_name": "Python 3"
    },
    "language_info": {
      "name": "python"
    }
  },
  "cells": [
    {
      "cell_type": "code",
      "metadata": {
        "id": "RlZYlon8t_C7",
        "colab": {
          "base_uri": "https://localhost:8080/"
        },
        "outputId": "13e00b3e-5dbc-4e54-d3e8-1a1c3daec64b"
      },
      "source": [
        "\n",
        "!pip install pgmpy\n",
        "\n"
      ],
      "execution_count": 1,
      "outputs": [
        {
          "output_type": "stream",
          "text": [
            "Collecting pgmpy\n",
            "\u001b[?25l  Downloading https://files.pythonhosted.org/packages/a3/0e/d9fadbfaa35e010c04d43acd3ae9fbefec98897dd7d61a6b7eb5a8b34072/pgmpy-0.1.14-py3-none-any.whl (331kB)\n",
            "\r\u001b[K     |█                               | 10kB 13.6MB/s eta 0:00:01\r\u001b[K     |██                              | 20kB 18.7MB/s eta 0:00:01\r\u001b[K     |███                             | 30kB 11.8MB/s eta 0:00:01\r\u001b[K     |████                            | 40kB 9.2MB/s eta 0:00:01\r\u001b[K     |█████                           | 51kB 4.4MB/s eta 0:00:01\r\u001b[K     |██████                          | 61kB 5.0MB/s eta 0:00:01\r\u001b[K     |███████                         | 71kB 5.0MB/s eta 0:00:01\r\u001b[K     |████████                        | 81kB 5.3MB/s eta 0:00:01\r\u001b[K     |█████████                       | 92kB 5.7MB/s eta 0:00:01\r\u001b[K     |█████████▉                      | 102kB 6.0MB/s eta 0:00:01\r\u001b[K     |██████████▉                     | 112kB 6.0MB/s eta 0:00:01\r\u001b[K     |███████████▉                    | 122kB 6.0MB/s eta 0:00:01\r\u001b[K     |████████████▉                   | 133kB 6.0MB/s eta 0:00:01\r\u001b[K     |█████████████▉                  | 143kB 6.0MB/s eta 0:00:01\r\u001b[K     |██████████████▉                 | 153kB 6.0MB/s eta 0:00:01\r\u001b[K     |███████████████▉                | 163kB 6.0MB/s eta 0:00:01\r\u001b[K     |████████████████▉               | 174kB 6.0MB/s eta 0:00:01\r\u001b[K     |█████████████████▉              | 184kB 6.0MB/s eta 0:00:01\r\u001b[K     |██████████████████▉             | 194kB 6.0MB/s eta 0:00:01\r\u001b[K     |███████████████████▊            | 204kB 6.0MB/s eta 0:00:01\r\u001b[K     |████████████████████▊           | 215kB 6.0MB/s eta 0:00:01\r\u001b[K     |█████████████████████▊          | 225kB 6.0MB/s eta 0:00:01\r\u001b[K     |██████████████████████▊         | 235kB 6.0MB/s eta 0:00:01\r\u001b[K     |███████████████████████▊        | 245kB 6.0MB/s eta 0:00:01\r\u001b[K     |████████████████████████▊       | 256kB 6.0MB/s eta 0:00:01\r\u001b[K     |█████████████████████████▊      | 266kB 6.0MB/s eta 0:00:01\r\u001b[K     |██████████████████████████▊     | 276kB 6.0MB/s eta 0:00:01\r\u001b[K     |███████████████████████████▊    | 286kB 6.0MB/s eta 0:00:01\r\u001b[K     |████████████████████████████▊   | 296kB 6.0MB/s eta 0:00:01\r\u001b[K     |█████████████████████████████▋  | 307kB 6.0MB/s eta 0:00:01\r\u001b[K     |██████████████████████████████▋ | 317kB 6.0MB/s eta 0:00:01\r\u001b[K     |███████████████████████████████▋| 327kB 6.0MB/s eta 0:00:01\r\u001b[K     |████████████████████████████████| 337kB 6.0MB/s \n",
            "\u001b[?25hRequirement already satisfied: tqdm in /usr/local/lib/python3.7/dist-packages (from pgmpy) (4.41.1)\n",
            "Requirement already satisfied: networkx in /usr/local/lib/python3.7/dist-packages (from pgmpy) (2.5.1)\n",
            "Requirement already satisfied: joblib in /usr/local/lib/python3.7/dist-packages (from pgmpy) (1.0.1)\n",
            "Requirement already satisfied: numpy in /usr/local/lib/python3.7/dist-packages (from pgmpy) (1.19.5)\n",
            "Requirement already satisfied: statsmodels in /usr/local/lib/python3.7/dist-packages (from pgmpy) (0.10.2)\n",
            "Requirement already satisfied: pyparsing in /usr/local/lib/python3.7/dist-packages (from pgmpy) (2.4.7)\n",
            "Requirement already satisfied: pandas in /usr/local/lib/python3.7/dist-packages (from pgmpy) (1.1.5)\n",
            "Requirement already satisfied: scipy in /usr/local/lib/python3.7/dist-packages (from pgmpy) (1.4.1)\n",
            "Requirement already satisfied: torch in /usr/local/lib/python3.7/dist-packages (from pgmpy) (1.8.1+cu101)\n",
            "Requirement already satisfied: scikit-learn in /usr/local/lib/python3.7/dist-packages (from pgmpy) (0.22.2.post1)\n",
            "Requirement already satisfied: decorator<5,>=4.3 in /usr/local/lib/python3.7/dist-packages (from networkx->pgmpy) (4.4.2)\n",
            "Requirement already satisfied: patsy>=0.4.0 in /usr/local/lib/python3.7/dist-packages (from statsmodels->pgmpy) (0.5.1)\n",
            "Requirement already satisfied: python-dateutil>=2.7.3 in /usr/local/lib/python3.7/dist-packages (from pandas->pgmpy) (2.8.1)\n",
            "Requirement already satisfied: pytz>=2017.2 in /usr/local/lib/python3.7/dist-packages (from pandas->pgmpy) (2018.9)\n",
            "Requirement already satisfied: typing-extensions in /usr/local/lib/python3.7/dist-packages (from torch->pgmpy) (3.7.4.3)\n",
            "Requirement already satisfied: six in /usr/local/lib/python3.7/dist-packages (from patsy>=0.4.0->statsmodels->pgmpy) (1.15.0)\n",
            "Installing collected packages: pgmpy\n",
            "Successfully installed pgmpy-0.1.14\n"
          ],
          "name": "stdout"
        }
      ]
    },
    {
      "cell_type": "markdown",
      "metadata": {
        "id": "C4HsB-QrkxKU"
      },
      "source": [
        "### **Construction of Bayesian network**\n",
        "\n",
        "\n",
        "\n",
        "\n",
        "\n",
        "\n",
        "\n"
      ]
    },
    {
      "cell_type": "code",
      "metadata": {
        "colab": {
          "base_uri": "https://localhost:8080/"
        },
        "id": "yk5RHDCGl2FM",
        "outputId": "f9972fc8-1259-426c-8f7f-cac67341b177"
      },
      "source": [
        "# This Python 3 environment comes with many helpful analytics libraries installed\n",
        "\n",
        "import numpy as np # linear algebra\n",
        "import pandas as pd # data processing, CSV file I/O (e.g. pd.read_csv)\n",
        "from pgmpy.estimators import MaximumLikelihoodEstimator\n",
        "from pgmpy.models import BayesianModel\n",
        "from pgmpy.inference import VariableElimination\n",
        "\n",
        "\n",
        "\n"
      ],
      "execution_count": 2,
      "outputs": [
        {
          "output_type": "stream",
          "text": [
            "/usr/local/lib/python3.7/dist-packages/statsmodels/tools/_testing.py:19: FutureWarning: pandas.util.testing is deprecated. Use the functions in the public API at pandas.testing instead.\n",
            "  import pandas.util.testing as tm\n"
          ],
          "name": "stderr"
        }
      ]
    },
    {
      "cell_type": "code",
      "metadata": {
        "colab": {
          "base_uri": "https://localhost:8080/"
        },
        "id": "eY2qhCs2oYUX",
        "outputId": "4bd93a13-a53b-45d9-f8aa-570f976393b1"
      },
      "source": [
        "heart_Disease = pd.read_csv('/home/bayes_heart_disease_dataset.csv')\n",
        "heart_Disease = heart_Disease.replace('?',np.nan)\n",
        "\n",
        "print('Sample instances from the dataset are given below')\n",
        "print(heart_Disease.head())\n",
        "\n",
        "print('\\n Attributes and datatypes')\n",
        "print(heart_Disease.dtypes)\n",
        "\n",
        "model= BayesianModel([('age','heartdisease'),('sex','heartdisease'),('exang','heartdisease'),('cp','heartdisease'),('heartdisease','restecg'),('heartdisease','chol')])\n",
        "print('\\nLearning CPD using Maximum likelihood estimators')\n",
        "model.fit(heart_Disease,estimator=MaximumLikelihoodEstimator)\n",
        "\n",
        "print('\\n Inferencing with Bayesian Network:')\n",
        "Heart_Disease_test_infer = VariableElimination(model)\n",
        "\n",
        "print('\\n 1. Probability of HeartDisease given evidence= restecg')\n",
        "q1=Heart_Disease_test_infer.query(variables=['heartdisease'],evidence={'restecg':1})\n",
        "print(q1)\n",
        "\n",
        "print('\\n 2. Probability of HeartDisease given evidence= cp ')\n",
        "q2=Heart_Disease_test_infer.query(variables=['heartdisease'],evidence={'cp':2})\n",
        "print(q2)\n"
      ],
      "execution_count": 3,
      "outputs": [
        {
          "output_type": "stream",
          "text": [
            "Sample instances from the dataset are given below\n",
            "   age  sex  cp  trestbps  chol  ...  oldpeak  slope  ca  thal  heartdisease\n",
            "0   63    1   1       145   233  ...      2.3      3   0     6             0\n",
            "1   67    1   4       160   286  ...      1.5      2   3     3             2\n",
            "2   67    1   4       120   229  ...      2.6      2   2     7             1\n",
            "3   37    1   3       130   250  ...      3.5      3   0     3             0\n",
            "4   41    0   2       130   204  ...      1.4      1   0     3             0\n",
            "\n",
            "[5 rows x 14 columns]\n",
            "\n",
            " Attributes and datatypes\n",
            "age               int64\n",
            "sex               int64\n",
            "cp                int64\n",
            "trestbps          int64\n",
            "chol              int64\n",
            "fbs               int64\n",
            "restecg           int64\n",
            "thalach           int64\n",
            "exang             int64\n",
            "oldpeak         float64\n",
            "slope             int64\n",
            "ca               object\n",
            "thal             object\n",
            "heartdisease      int64\n",
            "dtype: object\n",
            "\n",
            "Learning CPD using Maximum likelihood estimators\n"
          ],
          "name": "stdout"
        },
        {
          "output_type": "stream",
          "text": [
            "Finding Elimination Order: : 100%|██████████| 5/5 [00:00<00:00, 740.49it/s]\n",
            "Eliminating: age: 100%|██████████| 5/5 [00:00<00:00, 75.39it/s]"
          ],
          "name": "stderr"
        },
        {
          "output_type": "stream",
          "text": [
            "\n",
            " Inferencing with Bayesian Network:\n",
            "\n",
            " 1. Probability of HeartDisease given evidence= restecg\n",
            "+-----------------+---------------------+\n",
            "| heartdisease    |   phi(heartdisease) |\n",
            "+=================+=====================+\n",
            "| heartdisease(0) |              0.1012 |\n",
            "+-----------------+---------------------+\n",
            "| heartdisease(1) |              0.0000 |\n",
            "+-----------------+---------------------+\n",
            "| heartdisease(2) |              0.2392 |\n",
            "+-----------------+---------------------+\n",
            "| heartdisease(3) |              0.2015 |\n",
            "+-----------------+---------------------+\n",
            "| heartdisease(4) |              0.4581 |\n",
            "+-----------------+---------------------+\n",
            "\n",
            " 2. Probability of HeartDisease given evidence= cp \n"
          ],
          "name": "stdout"
        },
        {
          "output_type": "stream",
          "text": [
            "\n",
            "Finding Elimination Order: : 100%|██████████| 5/5 [00:00<00:00, 565.80it/s]\n",
            "Eliminating: age: 100%|██████████| 5/5 [00:00<00:00, 121.08it/s]"
          ],
          "name": "stderr"
        },
        {
          "output_type": "stream",
          "text": [
            "+-----------------+---------------------+\n",
            "| heartdisease    |   phi(heartdisease) |\n",
            "+=================+=====================+\n",
            "| heartdisease(0) |              0.3610 |\n",
            "+-----------------+---------------------+\n",
            "| heartdisease(1) |              0.2159 |\n",
            "+-----------------+---------------------+\n",
            "| heartdisease(2) |              0.1373 |\n",
            "+-----------------+---------------------+\n",
            "| heartdisease(3) |              0.1537 |\n",
            "+-----------------+---------------------+\n",
            "| heartdisease(4) |              0.1321 |\n",
            "+-----------------+---------------------+\n"
          ],
          "name": "stdout"
        },
        {
          "output_type": "stream",
          "text": [
            "\n"
          ],
          "name": "stderr"
        }
      ]
    }
  ]
}